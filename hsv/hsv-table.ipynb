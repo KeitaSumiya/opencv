{
 "cells": [
  {
   "cell_type": "code",
   "execution_count": 1,
   "metadata": {
    "collapsed": true
   },
   "outputs": [],
   "source": [
    "import cv2\n",
    "%matplotlib inline\n",
    "import matplotlib.pyplot as plt\n",
    "import numpy as np\n",
    "from itertools import chain"
   ]
  },
  {
   "cell_type": "code",
   "execution_count": 2,
   "metadata": {
    "collapsed": false
   },
   "outputs": [
    {
     "data": {
      "text/plain": [
       "<matplotlib.image.AxesImage at 0x10e1eb828>"
      ]
     },
     "execution_count": 2,
     "metadata": {},
     "output_type": "execute_result"
    },
    {
     "data": {
      "image/png": "[encoded data removed]",
      "text/plain": [
       "<matplotlib.figure.Figure at 0x10e188a58>"
      ]
     },
     "metadata": {},
     "output_type": "display_data"
    }
   ],
   "source": [
    "height = 255\n",
    "width = 100\n",
    "img = np.zeros((height, width, 3), np.uint8)\n",
    "for ih in range(0,height,1):\n",
    "    cv2.line(img, (0,ih),(width,ih),(255*ih/height,255,240),1)\n",
    "imgRGB = cv2.cvtColor(img,cv2.COLOR_HSV2RGB)\n",
    "imgBGR = cv2.cvtColor(imgRGB,cv2.COLOR_RGB2BGR)\n",
    "cv2.imwrite(\"imgBGRinOpenCV(equalsRGB).jpg\",imgBGR)\n",
    "plt.imshow(imgRGB)"
   ]
  },
  {
   "cell_type": "code",
   "execution_count": 3,
   "metadata": {
    "collapsed": false
   },
   "outputs": [
    {
     "name": "stdout",
     "output_type": "stream",
     "text": [
      "[[[  0 255 240]\n",
      "  [179 255 240]\n",
      "  [180 255 240]\n",
      "  [181 255 240]]]\n",
      "[[[240   0   0]\n",
      "  [240   0   8]\n",
      "  [240   0   0]\n",
      "  [240   8   0]]]\n"
     ]
    },
    {
     "data": {
      "text/plain": [
       "<matplotlib.image.AxesImage at 0x1108ce7b8>"
      ]
     },
     "execution_count": 3,
     "metadata": {},
     "output_type": "execute_result"
    },
    {
     "data": {
      "image/png": "[encoded data removed]",
      "text/plain": [
       "<matplotlib.figure.Figure at 0x10e1bba20>"
      ]
     },
     "metadata": {},
     "output_type": "display_data"
    }
   ],
   "source": [
    "# hue = 0 equals hue = 0 + 180\n",
    "h = 0\n",
    "s = 255\n",
    "v = 240\n",
    "img = np.zeros((1,4,3), np.uint8)\n",
    "img[0] = [[h,s,v],[h+179,s,v],[h+180,s,v],[h+181,s,v]]\n",
    "print(img)\n",
    "imgRGB = cv2.cvtColor(img,cv2.COLOR_HSV2RGB)\n",
    "print(imgRGB)\n",
    "plt.imshow(imgRGB)"
   ]
  },
  {
   "cell_type": "code",
   "execution_count": null,
   "metadata": {
    "collapsed": true
   },
   "outputs": [],
   "source": []
  }
 ],
 "metadata": {
  "kernelspec": {
   "display_name": "Python 3",
   "language": "python",
   "name": "python3"
  },
  "language_info": {
   "codemirror_mode": {
    "name": "ipython",
    "version": 3
   },
   "file_extension": ".py",
   "mimetype": "text/x-python",
   "name": "python",
   "nbconvert_exporter": "python",
   "pygments_lexer": "ipython3",
   "version": "3.5.1"
  }
 },
 "nbformat": 4,
 "nbformat_minor": 0
}
